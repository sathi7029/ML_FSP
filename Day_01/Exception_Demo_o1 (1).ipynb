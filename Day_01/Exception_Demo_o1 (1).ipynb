{
 "cells": [
  {
   "cell_type": "code",
   "execution_count": 1,
   "id": "e388da2a-968e-4029-92bc-63214c27aff9",
   "metadata": {},
   "outputs": [
    {
     "name": "stdin",
     "output_type": "stream",
     "text": [
      "enter 1st number: 66\n",
      "enter 2nd number: 2\n"
     ]
    },
    {
     "name": "stdout",
     "output_type": "stream",
     "text": [
      "33.0\n",
      "132\n",
      "33.0\n",
      "33.0\n",
      "132\n",
      "33.0\n",
      "execution done!!!!\n"
     ]
    }
   ],
   "source": [
    "try:\n",
    "    a=int(input(\"enter 1st number:\"))\n",
    "    b=int(input(\"enter 2nd number:\"))\n",
    "    c=a/b\n",
    "    d=a*b\n",
    "    e=a/b\n",
    "    print(c)\n",
    "    print(d)\n",
    "    print(e)\n",
    "except NameError as ne:\n",
    "    print(\"the user have not defined the variable\")\n",
    "except ZeroDivisionError as zd:\n",
    "    print(\"please provide number greater than 0\")\n",
    "except TypeError as te:\n",
    "    print(\"try to make the datatype similar\")\n",
    "except ValueError as ve:\n",
    "    print(\"please enter integer value only....\")    \n",
    "except Exception as ex:\n",
    "    print(\"undefined exception\")\n",
    "else:\n",
    "    print(c)\n",
    "    print(d)\n",
    "    print(e)\n",
    "finally:\n",
    "    print(\"execution done!!!!\")\n",
    "    "
   ]
  },
  {
   "cell_type": "code",
   "execution_count": null,
   "id": "a03ff330-c2f7-480d-9e88-26139c953bb0",
   "metadata": {},
   "outputs": [],
   "source": []
  }
 ],
 "metadata": {
  "kernelspec": {
   "display_name": "Python 3 (ipykernel)",
   "language": "python",
   "name": "python3"
  },
  "language_info": {
   "codemirror_mode": {
    "name": "ipython",
    "version": 3
   },
   "file_extension": ".py",
   "mimetype": "text/x-python",
   "name": "python",
   "nbconvert_exporter": "python",
   "pygments_lexer": "ipython3",
   "version": "3.9.12"
  }
 },
 "nbformat": 4,
 "nbformat_minor": 5
}
